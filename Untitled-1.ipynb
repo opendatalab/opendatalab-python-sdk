{
 "cells": [
  {
   "cell_type": "code",
   "execution_count": 1,
   "metadata": {},
   "outputs": [
    {
     "name": "stdout",
     "output_type": "stream",
     "text": [
      "Collecting opendatalab-python-sdk==0.0.4\n",
      "  Downloading opendatalab_python_sdk-0.0.4-py3-none-any.whl (6.7 kB)\n",
      "Requirement already satisfied: requests in /Users/wangrui/miniconda3/envs/odl/lib/python3.8/site-packages (from opendatalab-python-sdk==0.0.4) (2.27.1)\n",
      "Requirement already satisfied: oss2 in /Users/wangrui/miniconda3/envs/odl/lib/python3.8/site-packages (from opendatalab-python-sdk==0.0.4) (2.15.0)\n",
      "Requirement already satisfied: Click in /Users/wangrui/miniconda3/envs/odl/lib/python3.8/site-packages (from opendatalab-python-sdk==0.0.4) (8.1.3)\n",
      "Requirement already satisfied: tqdm in /Users/wangrui/miniconda3/envs/odl/lib/python3.8/site-packages (from opendatalab-python-sdk==0.0.4) (4.50.2)\n",
      "Requirement already satisfied: aliyun-python-sdk-core>=2.13.12 in /Users/wangrui/miniconda3/envs/odl/lib/python3.8/site-packages (from oss2->opendatalab-python-sdk==0.0.4) (2.13.36)\n",
      "Requirement already satisfied: crcmod>=1.7 in /Users/wangrui/miniconda3/envs/odl/lib/python3.8/site-packages (from oss2->opendatalab-python-sdk==0.0.4) (1.7)\n",
      "Requirement already satisfied: aliyun-python-sdk-kms>=2.4.1 in /Users/wangrui/miniconda3/envs/odl/lib/python3.8/site-packages (from oss2->opendatalab-python-sdk==0.0.4) (2.15.0)\n",
      "Requirement already satisfied: pycryptodome>=3.4.7 in /Users/wangrui/miniconda3/envs/odl/lib/python3.8/site-packages (from oss2->opendatalab-python-sdk==0.0.4) (3.14.1)\n",
      "Requirement already satisfied: six in /Users/wangrui/miniconda3/envs/odl/lib/python3.8/site-packages (from oss2->opendatalab-python-sdk==0.0.4) (1.16.0)\n",
      "Requirement already satisfied: jmespath<1.0.0,>=0.9.3 in /Users/wangrui/miniconda3/envs/odl/lib/python3.8/site-packages (from aliyun-python-sdk-core>=2.13.12->oss2->opendatalab-python-sdk==0.0.4) (0.10.0)\n",
      "Requirement already satisfied: cryptography>=2.6.0 in /Users/wangrui/miniconda3/envs/odl/lib/python3.8/site-packages (from aliyun-python-sdk-core>=2.13.12->oss2->opendatalab-python-sdk==0.0.4) (37.0.2)\n",
      "Requirement already satisfied: cffi>=1.12 in /Users/wangrui/miniconda3/envs/odl/lib/python3.8/site-packages (from cryptography>=2.6.0->aliyun-python-sdk-core>=2.13.12->oss2->opendatalab-python-sdk==0.0.4) (1.15.0)\n",
      "Requirement already satisfied: pycparser in /Users/wangrui/miniconda3/envs/odl/lib/python3.8/site-packages (from cffi>=1.12->cryptography>=2.6.0->aliyun-python-sdk-core>=2.13.12->oss2->opendatalab-python-sdk==0.0.4) (2.21)\n",
      "Requirement already satisfied: urllib3<1.27,>=1.21.1 in /Users/wangrui/miniconda3/envs/odl/lib/python3.8/site-packages (from requests->opendatalab-python-sdk==0.0.4) (1.26.9)\n",
      "Requirement already satisfied: certifi>=2017.4.17 in /Users/wangrui/miniconda3/envs/odl/lib/python3.8/site-packages (from requests->opendatalab-python-sdk==0.0.4) (2022.5.18.1)\n",
      "Requirement already satisfied: idna<4,>=2.5 in /Users/wangrui/miniconda3/envs/odl/lib/python3.8/site-packages (from requests->opendatalab-python-sdk==0.0.4) (3.3)\n",
      "Requirement already satisfied: charset-normalizer~=2.0.0 in /Users/wangrui/miniconda3/envs/odl/lib/python3.8/site-packages (from requests->opendatalab-python-sdk==0.0.4) (2.0.12)\n",
      "Installing collected packages: opendatalab-python-sdk\n",
      "  Attempting uninstall: opendatalab-python-sdk\n",
      "    Found existing installation: opendatalab-python-sdk 0.0.3\n",
      "    Uninstalling opendatalab-python-sdk-0.0.3:\n",
      "      Successfully uninstalled opendatalab-python-sdk-0.0.3\n",
      "Successfully installed opendatalab-python-sdk-0.0.4\n",
      "Note: you may need to restart the kernel to use updated packages.\n"
     ]
    }
   ],
   "source": [
    "pip install opendatalab-python-sdk==0.0.4"
   ]
  },
  {
   "cell_type": "code",
   "execution_count": 4,
   "metadata": {},
   "outputs": [],
   "source": [
    "import opendatalab"
   ]
  },
  {
   "cell_type": "code",
   "execution_count": 6,
   "metadata": {},
   "outputs": [
    {
     "ename": "SyntaxError",
     "evalue": "invalid syntax (3207728950.py, line 1)",
     "output_type": "error",
     "traceback": [
      "\u001b[0;36m  Input \u001b[0;32mIn [6]\u001b[0;36m\u001b[0m\n\u001b[0;31m    python -m opendatalab.download --name 'FB15K' --format 'source' --root ./FB15K\u001b[0m\n\u001b[0m              ^\u001b[0m\n\u001b[0;31mSyntaxError\u001b[0m\u001b[0;31m:\u001b[0m invalid syntax\n"
     ]
    }
   ],
   "source": [
    "python -m opendatalab.download --name 'FB15k' --dataset_id 79 --format 'source' --root ./FB15K"
   ]
  }
 ],
 "metadata": {
  "interpreter": {
   "hash": "a8e04d84cfe2024fed531a1ed7393047f92b9f4aca8c3f8d49936373ddf910cf"
  },
  "kernelspec": {
   "display_name": "Python 3.8.13 64-bit ('odl': conda)",
   "language": "python",
   "name": "python3"
  },
  "language_info": {
   "codemirror_mode": {
    "name": "ipython",
    "version": 3
   },
   "file_extension": ".py",
   "mimetype": "text/x-python",
   "name": "python",
   "nbconvert_exporter": "python",
   "pygments_lexer": "ipython3",
   "version": "3.8.13"
  },
  "orig_nbformat": 4
 },
 "nbformat": 4,
 "nbformat_minor": 2
}
